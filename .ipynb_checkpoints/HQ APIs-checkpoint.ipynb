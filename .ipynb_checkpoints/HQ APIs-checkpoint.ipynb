{
 "cells": [
  {
   "cell_type": "markdown",
   "metadata": {
    "slideshow": {
     "slide_type": "slide"
    }
   },
   "source": [
    "# CommCareHQ API\n",
    "\n",
    "### Authentication\n",
    "\n",
    "CommCareHQ allows for two types of authentication, documented [here](https://confluence.dimagi.com/display/commcarepublic/Authentication). The first type is digest. Digest auth allows you to use your personal login details to access CommCareHQ data. The second type is through the use of an API key.\n",
    "\n",
    "In these notebook, we'll be using the API through the use of an API key as that is typically the better practice.\n",
    "\n",
    "### Getting your API key\n",
    "\n",
    "Your API key can be found in [account settings](https://www.commcarehq.org/account/settings/). Ensure that the API key is not stored anywhere publically as it could allow others to have access to your data.\n",
    "\n",
    "Let's now walk through how to interact with HQ via the python `requests` library."
   ]
  },
  {
   "cell_type": "markdown",
   "metadata": {
    "slideshow": {
     "slide_type": "slide"
    }
   },
   "source": [
    "## Defining Authorization header\n",
    "\n",
    "CommCareHQ uses a special auth type that uses an api key. We will define a class that leverages the requests framework so it's simple to make api calls."
   ]
  },
  {
   "cell_type": "code",
   "execution_count": 1,
   "metadata": {
    "collapsed": true,
    "slideshow": {
     "slide_type": "fragment"
    }
   },
   "outputs": [],
   "source": [
    "headers = {'Authorization': 'apikey <username>:<apikey>'}"
   ]
  },
  {
   "cell_type": "markdown",
   "metadata": {
    "slideshow": {
     "slide_type": "slide"
    }
   },
   "source": [
    "## Getting a list of users\n",
    "Now that we have our authorization headers configured, let's get a list of users."
   ]
  },
  {
   "cell_type": "code",
   "execution_count": 2,
   "metadata": {
    "collapsed": false,
    "slideshow": {
     "slide_type": "fragment"
    }
   },
   "outputs": [
    {
     "data": {
      "text/plain": [
       "{u'meta': {u'limit': 20,\n",
       "  u'next': None,\n",
       "  u'offset': 0,\n",
       "  u'previous': None,\n",
       "  u'total_count': 1},\n",
       " u'objects': [{u'default_phone_number': None,\n",
       "   u'email': u'',\n",
       "   u'first_name': u'Ben',\n",
       "   u'groups': [],\n",
       "   u'id': u'1f77c0c3e6993b74592b59ccf5d3320c',\n",
       "   u'last_name': u'Rudolph',\n",
       "   u'phone_numbers': [],\n",
       "   u'resource_uri': u'/a/exi-training/api/v0.5/user/1f77c0c3e6993b74592b59ccf5d3320c/',\n",
       "   u'user_data': {},\n",
       "   u'username': u'ben@exi-training.commcarehq.org'}]}"
      ]
     },
     "execution_count": 2,
     "metadata": {},
     "output_type": "execute_result"
    }
   ],
   "source": [
    "import requests\n",
    "from CommCareHQAPI.localsettings import API_KEY\n",
    "\n",
    "# Define a few helpful variables\n",
    "domain = 'exi-training'\n",
    "base_api_url = 'https://www.commcarehq.org/a/{}/api/v0.5/'.format(domain)\n",
    "headers = {'Authorization': 'apikey brudolph@dimagi.com:{}'.format(API_KEY)}\n",
    "\n",
    "resp = requests.get(base_api_url + 'user', headers=headers)\n",
    "resp.json()"
   ]
  },
  {
   "cell_type": "markdown",
   "metadata": {
    "slideshow": {
     "slide_type": "slide"
    }
   },
   "source": [
    "You should now see a list of users in JSON format. That's essentially all we have to do! We can find all the APIs and their documentation [here](https://confluence.dimagi.com/display/commcarepublic/CommCare+HQ+APIs)\n",
    "\n",
    "Let's go through a few [Case](https://confluence.dimagi.com/pages/viewpage.action?pageId=12224287) examples."
   ]
  },
  {
   "cell_type": "code",
   "execution_count": 4,
   "metadata": {
    "collapsed": false,
    "slideshow": {
     "slide_type": "fragment"
    }
   },
   "outputs": [
    {
     "data": {
      "text/plain": [
       "{u'meta': {u'limit': 20,\n",
       "  u'next': None,\n",
       "  u'offset': 0,\n",
       "  u'previous': None,\n",
       "  u'total_count': 1},\n",
       " u'objects': [{u'case_id': u'582b7655-8ef3-4b20-be03-3a0fc222e258',\n",
       "   u'closed': False,\n",
       "   u'date_closed': None,\n",
       "   u'date_modified': u'2015-11-27 19:34:33.987000',\n",
       "   u'domain': u'exi-training',\n",
       "   u'id': u'582b7655-8ef3-4b20-be03-3a0fc222e258',\n",
       "   u'indices': {},\n",
       "   u'properties': {u'case_name': u'whole_milk',\n",
       "    u'case_type': u'milk',\n",
       "    u'date_opened': u'2015-11-27T19:34:33.987000',\n",
       "    u'external_id': u'',\n",
       "    u'number_of_bottles': u'2',\n",
       "    u'owner_id': u'1f77c0c3e6993b74592b59ccf5d3320c'},\n",
       "   u'resource_uri': u'',\n",
       "   u'server_date_modified': u'2015-11-27 19:34:34.814767',\n",
       "   u'server_date_opened': u'2015-11-27 19:34:34.814767',\n",
       "   u'user_id': u'1f77c0c3e6993b74592b59ccf5d3320c',\n",
       "   u'xform_ids': [u'a3cb2330-df25-4bd3-874e-7244385b6107']}]}"
      ]
     },
     "execution_count": 4,
     "metadata": {},
     "output_type": "execute_result"
    }
   ],
   "source": [
    "\n",
    "case_api_url = '{}{}'.format(base_api_url, 'case')\n",
    "\n",
    "# List of cases for that domain\n",
    "resp = requests.get(case_api_url, headers=headers)\n",
    "resp.json()\n"
   ]
  },
  {
   "cell_type": "code",
   "execution_count": 5,
   "metadata": {
    "collapsed": false,
    "slideshow": {
     "slide_type": "slide"
    }
   },
   "outputs": [
    {
     "data": {
      "text/plain": [
       "{u'meta': {u'limit': 20,\n",
       "  u'next': None,\n",
       "  u'offset': 0,\n",
       "  u'previous': None,\n",
       "  u'total_count': 1},\n",
       " u'objects': [{u'case_id': u'582b7655-8ef3-4b20-be03-3a0fc222e258',\n",
       "   u'closed': False,\n",
       "   u'date_closed': None,\n",
       "   u'date_modified': u'2015-11-27 19:34:33.987000',\n",
       "   u'domain': u'exi-training',\n",
       "   u'id': u'582b7655-8ef3-4b20-be03-3a0fc222e258',\n",
       "   u'indices': {},\n",
       "   u'properties': {u'case_name': u'whole_milk',\n",
       "    u'case_type': u'milk',\n",
       "    u'date_opened': u'2015-11-27T19:34:33.987000',\n",
       "    u'external_id': u'',\n",
       "    u'number_of_bottles': u'2',\n",
       "    u'owner_id': u'1f77c0c3e6993b74592b59ccf5d3320c'},\n",
       "   u'resource_uri': u'',\n",
       "   u'server_date_modified': u'2015-11-27 19:34:34.814767',\n",
       "   u'server_date_opened': u'2015-11-27 19:34:34.814767',\n",
       "   u'user_id': u'1f77c0c3e6993b74592b59ccf5d3320c',\n",
       "   u'xform_ids': [u'a3cb2330-df25-4bd3-874e-7244385b6107']}]}"
      ]
     },
     "execution_count": 5,
     "metadata": {},
     "output_type": "execute_result"
    }
   ],
   "source": [
    "# Filter by case type\n",
    "params = {'type': 'milk'}\n",
    "resp = requests.get(case_api_url, headers=headers, params=params)\n",
    "resp.json()"
   ]
  },
  {
   "cell_type": "code",
   "execution_count": 7,
   "metadata": {
    "collapsed": false,
    "slideshow": {
     "slide_type": "slide"
    }
   },
   "outputs": [
    {
     "data": {
      "text/plain": [
       "{u'case_id': u'582b7655-8ef3-4b20-be03-3a0fc222e258',\n",
       " u'closed': False,\n",
       " u'date_closed': None,\n",
       " u'date_modified': u'2015-11-27 19:34:33.987000',\n",
       " u'domain': u'exi-training',\n",
       " u'id': u'582b7655-8ef3-4b20-be03-3a0fc222e258',\n",
       " u'indices': {},\n",
       " u'properties': {u'case_name': u'whole_milk',\n",
       "  u'case_type': u'milk',\n",
       "  u'date_opened': u'2015-11-27T19:34:33.987000',\n",
       "  u'external_id': u'',\n",
       "  u'number_of_bottles': u'2',\n",
       "  u'owner_id': u'1f77c0c3e6993b74592b59ccf5d3320c'},\n",
       " u'resource_uri': u'',\n",
       " u'server_date_modified': u'2015-11-27 19:34:34.814767',\n",
       " u'server_date_opened': u'2015-11-27 19:34:34.814767',\n",
       " u'user_id': u'1f77c0c3e6993b74592b59ccf5d3320c',\n",
       " u'xform_ids': [u'a3cb2330-df25-4bd3-874e-7244385b6107']}"
      ]
     },
     "execution_count": 7,
     "metadata": {},
     "output_type": "execute_result"
    }
   ],
   "source": [
    "# Get a case by URL\n",
    "case_id = '582b7655-8ef3-4b20-be03-3a0fc222e258'\n",
    "resp = requests.get('{}/{}'.format(case_api_url, case_id), headers=headers)\n",
    "resp.json()"
   ]
  },
  {
   "cell_type": "code",
   "execution_count": null,
   "metadata": {
    "collapsed": true
   },
   "outputs": [],
   "source": []
  }
 ],
 "metadata": {
  "celltoolbar": "Slideshow",
  "kernelspec": {
   "display_name": "Python 2",
   "language": "python",
   "name": "python2"
  },
  "language_info": {
   "codemirror_mode": {
    "name": "ipython",
    "version": 2
   },
   "file_extension": ".py",
   "mimetype": "text/x-python",
   "name": "python",
   "nbconvert_exporter": "python",
   "pygments_lexer": "ipython2",
   "version": "2.7.10"
  }
 },
 "nbformat": 4,
 "nbformat_minor": 0
}
