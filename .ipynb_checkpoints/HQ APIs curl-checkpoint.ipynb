{
 "cells": [
  {
   "cell_type": "markdown",
   "metadata": {
    "slideshow": {
     "slide_type": "slide"
    }
   },
   "source": [
    "# CommCareHQ API\n",
    "\n",
    "### Authentication\n",
    "\n",
    "CommCareHQ allows for two types of authentication, documented [here](https://confluence.dimagi.com/display/commcarepublic/Authentication). The first type is digest. Digest auth allows you to use your personal login details to access CommCareHQ data. The second type is through the use of an API key.\n",
    "\n",
    "In these notebook, we'll be using the API through the use of an API key as that is typically the better practice.\n",
    "\n",
    "### Getting your API key\n",
    "\n",
    "Your API key can be found in [account settings](https://www.commcarehq.org/account/settings/). Ensure that the API key is not stored anywhere publically as it could allow others to have access to your data.\n",
    "\n",
    "Let's now walk through how to interact with HQ via the python `requests` library."
   ]
  },
  {
   "cell_type": "markdown",
   "metadata": {
    "slideshow": {
     "slide_type": "slide"
    }
   },
   "source": [
    "## Defining Authorization header\n",
    "\n",
    "CommCareHQ uses a special auth type that uses an api key. We will define a class that leverages the requests framework so it's simple to make api calls."
   ]
  },
  {
   "cell_type": "markdown",
   "metadata": {
    "slideshow": {
     "slide_type": "slide"
    }
   },
   "source": [
    "## Getting a list of users\n",
    "Now that we have our authorization headers configured, let's get a list of users."
   ]
  },
  {
   "cell_type": "code",
   "execution_count": 2,
   "metadata": {
    "collapsed": false,
    "slideshow": {
     "slide_type": "fragment"
    }
   },
   "outputs": [
    {
     "data": {
      "text/plain": [
       "{u'meta': {u'limit': 20,\n",
       "  u'next': None,\n",
       "  u'offset': 0,\n",
       "  u'previous': None,\n",
       "  u'total_count': 1},\n",
       " u'objects': [{u'default_phone_number': None,\n",
       "   u'email': u'',\n",
       "   u'first_name': u'Ben',\n",
       "   u'groups': [],\n",
       "   u'id': u'1f77c0c3e6993b74592b59ccf5d3320c',\n",
       "   u'last_name': u'Rudolph',\n",
       "   u'phone_numbers': [],\n",
       "   u'resource_uri': u'/a/exi-training/api/v0.5/user/1f77c0c3e6993b74592b59ccf5d3320c/',\n",
       "   u'user_data': {},\n",
       "   u'username': u'ben@exi-training.commcarehq.org'}]}"
      ]
     },
     "execution_count": 2,
     "metadata": {},
     "output_type": "execute_result"
    }
   ],
   "source": [
    "curl -H \"Authorization: ApiKey brudolph@dimagi.com:apikey\" https://www.commcarehq.org/a/exi-training/api/v0.5/user"
   ]
  },
  {
   "cell_type": "markdown",
   "metadata": {
    "slideshow": {
     "slide_type": "slide"
    }
   },
   "source": [
    "You should now see a list of users in JSON format. That's essentially all we have to do! We can find all the APIs and their documentation [here](https://confluence.dimagi.com/display/commcarepublic/CommCare+HQ+APIs)\n",
    "\n",
    "Let's go through a few [Case](https://confluence.dimagi.com/pages/viewpage.action?pageId=12224287) examples."
   ]
  },
  {
   "cell_type": "code",
   "execution_count": 4,
   "metadata": {
    "collapsed": false,
    "slideshow": {
     "slide_type": "fragment"
    }
   },
   "outputs": [
    {
     "data": {
      "text/plain": [
       "{u'meta': {u'limit': 20,\n",
       "  u'next': None,\n",
       "  u'offset': 0,\n",
       "  u'previous': None,\n",
       "  u'total_count': 1},\n",
       " u'objects': [{u'case_id': u'582b7655-8ef3-4b20-be03-3a0fc222e258',\n",
       "   u'closed': False,\n",
       "   u'date_closed': None,\n",
       "   u'date_modified': u'2015-11-27 19:34:33.987000',\n",
       "   u'domain': u'exi-training',\n",
       "   u'id': u'582b7655-8ef3-4b20-be03-3a0fc222e258',\n",
       "   u'indices': {},\n",
       "   u'properties': {u'case_name': u'whole_milk',\n",
       "    u'case_type': u'milk',\n",
       "    u'date_opened': u'2015-11-27T19:34:33.987000',\n",
       "    u'external_id': u'',\n",
       "    u'number_of_bottles': u'2',\n",
       "    u'owner_id': u'1f77c0c3e6993b74592b59ccf5d3320c'},\n",
       "   u'resource_uri': u'',\n",
       "   u'server_date_modified': u'2015-11-27 19:34:34.814767',\n",
       "   u'server_date_opened': u'2015-11-27 19:34:34.814767',\n",
       "   u'user_id': u'1f77c0c3e6993b74592b59ccf5d3320c',\n",
       "   u'xform_ids': [u'a3cb2330-df25-4bd3-874e-7244385b6107']}]}"
      ]
     },
     "execution_count": 4,
     "metadata": {},
     "output_type": "execute_result"
    }
   ],
   "source": [
    "\n",
    "curl -H \"Authorization: ApiKey brudolph@dimagi.com:apikey\" https://www.commcarehq.org/a/exi-training/api/v0.5/case\n"
   ]
  },
  {
   "cell_type": "code",
   "execution_count": 5,
   "metadata": {
    "collapsed": false,
    "slideshow": {
     "slide_type": "slide"
    }
   },
   "outputs": [
    {
     "data": {
      "text/plain": [
       "{u'meta': {u'limit': 20,\n",
       "  u'next': None,\n",
       "  u'offset': 0,\n",
       "  u'previous': None,\n",
       "  u'total_count': 1},\n",
       " u'objects': [{u'case_id': u'582b7655-8ef3-4b20-be03-3a0fc222e258',\n",
       "   u'closed': False,\n",
       "   u'date_closed': None,\n",
       "   u'date_modified': u'2015-11-27 19:34:33.987000',\n",
       "   u'domain': u'exi-training',\n",
       "   u'id': u'582b7655-8ef3-4b20-be03-3a0fc222e258',\n",
       "   u'indices': {},\n",
       "   u'properties': {u'case_name': u'whole_milk',\n",
       "    u'case_type': u'milk',\n",
       "    u'date_opened': u'2015-11-27T19:34:33.987000',\n",
       "    u'external_id': u'',\n",
       "    u'number_of_bottles': u'2',\n",
       "    u'owner_id': u'1f77c0c3e6993b74592b59ccf5d3320c'},\n",
       "   u'resource_uri': u'',\n",
       "   u'server_date_modified': u'2015-11-27 19:34:34.814767',\n",
       "   u'server_date_opened': u'2015-11-27 19:34:34.814767',\n",
       "   u'user_id': u'1f77c0c3e6993b74592b59ccf5d3320c',\n",
       "   u'xform_ids': [u'a3cb2330-df25-4bd3-874e-7244385b6107']}]}"
      ]
     },
     "execution_count": 5,
     "metadata": {},
     "output_type": "execute_result"
    }
   ],
   "source": [
    "# Filter by case type\n",
    "curl -H \"Authorization: ApiKey brudolph@dimagi.com:apikey\" https://www.commcarehq.org/a/exi-training/api/v0.5/case?type=milk"
   ]
  },
  {
   "cell_type": "code",
   "execution_count": 7,
   "metadata": {
    "collapsed": false,
    "scrolled": true,
    "slideshow": {
     "slide_type": "slide"
    }
   },
   "outputs": [
    {
     "data": {
      "text/plain": [
       "{u'case_id': u'582b7655-8ef3-4b20-be03-3a0fc222e258',\n",
       " u'closed': False,\n",
       " u'date_closed': None,\n",
       " u'date_modified': u'2015-11-27 19:34:33.987000',\n",
       " u'domain': u'exi-training',\n",
       " u'id': u'582b7655-8ef3-4b20-be03-3a0fc222e258',\n",
       " u'indices': {},\n",
       " u'properties': {u'case_name': u'whole_milk',\n",
       "  u'case_type': u'milk',\n",
       "  u'date_opened': u'2015-11-27T19:34:33.987000',\n",
       "  u'external_id': u'',\n",
       "  u'number_of_bottles': u'2',\n",
       "  u'owner_id': u'1f77c0c3e6993b74592b59ccf5d3320c'},\n",
       " u'resource_uri': u'',\n",
       " u'server_date_modified': u'2015-11-27 19:34:34.814767',\n",
       " u'server_date_opened': u'2015-11-27 19:34:34.814767',\n",
       " u'user_id': u'1f77c0c3e6993b74592b59ccf5d3320c',\n",
       " u'xform_ids': [u'a3cb2330-df25-4bd3-874e-7244385b6107']}"
      ]
     },
     "execution_count": 7,
     "metadata": {},
     "output_type": "execute_result"
    }
   ],
   "source": [
    "# Get a case by URL\n",
    "curl -H \"Authorization: ApiKey brudolph@dimagi.com:apikey\" https://www.commcarehq.org/a/exi-training/api/v0.5/case/582b7655-8ef3-4b20-be03-3a0fc222e258"
   ]
  },
  {
   "cell_type": "markdown",
   "metadata": {
    "slideshow": {
     "slide_type": "slide"
    }
   },
   "source": [
    "## Form Submission API\n",
    "\n",
    "You can submit forms programmatically. This means that you can insert data into CommCareHQ from other datasources. Th e only other way to have external data be entered in the app is through lookup tables. Using Form Submissions is a bit more complex, but doable. Example:"
   ]
  },
  {
   "cell_type": "code",
   "execution_count": null,
   "metadata": {
    "collapsed": true,
    "slideshow": {
     "slide_type": "slide"
    }
   },
   "outputs": [],
   "source": [
    "curl -XPOST -v -d @SampleForm.xml --user ben@obama.commcarehq.org https://www.commcarehq.org/a/obama/receiver"
   ]
  },
  {
   "cell_type": "markdown",
   "metadata": {
    "slideshow": {
     "slide_type": "slide"
    }
   },
   "source": [
    "In order to be this to work correctly, you need to have a proper xml file that represents your form. The easiest way to find XML is to go to your Sumbmission History and view the XML of previous form so you know what it looks like."
   ]
  },
  {
   "cell_type": "markdown",
   "metadata": {
    "slideshow": {
     "slide_type": "slide"
    }
   },
   "source": [
    "```\n",
    "<?xml version=\"1.0\"?>\n",
    "<data xmlns:jrm=\"http://dev.commcarehq.org/jr/xforms\" xmlns=\"http://openrosa.org/formdesigner/882FC273-E436-4BA1-B8CC-9CA526FFF8C2\" uiVersion=\"1\" version=\"3\" name=\"Form Name\">\n",
    "  <first_name>Lisa</first_name>\n",
    "  <surname>Rudolph</surname>\n",
    "  <dob_known>no</dob_known>\n",
    "  <age>30</age>\n",
    "  ... more data\n",
    "  <n0:case xmlns:n0=\"http://commcarehq.org/case/transaction/v2\" case_id=\"4c6d1da60f3e436194d10403d5598644\" date_modified=\"2015-11-27T21:01:51.933Z\" user_id=\"345c0713209175c3e3609c31e7a4cab0\">\n",
    "    <n0:create>\n",
    "      <n0:case_name>Lisa Rudolph</n0:case_name>\n",
    "      <n0:owner_id>345c0713209175c3e3609c31e7a4cab0</n0:owner_id>\n",
    "      <n0:case_type>pregnancy</n0:case_type>\n",
    "    </n0:create>\n",
    "    <n0:update>\n",
    "      <n0:age>30</n0:age>\n",
    "      <n0:dob_calc>1985-11-26</n0:dob_calc>\n",
    "      ... More updates\n",
    "    </n0:update>\n",
    "  </n0:case>\n",
    "  <n1:meta xmlns:n1=\"http://openrosa.org/jr/xforms\">\n",
    "    <n1:deviceID><your device id, OK to just put computer you are submitting from></n1:deviceID>\n",
    "    <n1:timeStart>2015-11-27T21:01:24.719Z <-- Need to fake this</n1:timeStart>\n",
    "    <n1:timeEnd>2015-11-27T21:01:51.933Z <-- Need to fake this</n1:timeEnd>\n",
    "    <n1:username>ben</n1:username>\n",
    "    <n1:userID>345c0713209175c3e3609c31e7a4cab0</n1:userID>\n",
    "    <n1:instanceID>8165d92f-03c6-4456-9162-112d49417926</n1:instanceID>\n",
    "    <n2:appVersion xmlns:n2=\"http://commcarehq.org/xforms\">2.0</n2:appVersion>\n",
    "  </n1:meta>\n",
    "</data>\n",
    "```"
   ]
  },
  {
   "cell_type": "markdown",
   "metadata": {
    "collapsed": true,
    "slideshow": {
     "slide_type": "slide"
    }
   },
   "source": [
    "## Activity\n",
    "\n",
    "- Easy: Make an application that gets a list of users all the users and prints their first name in alphabetical order\n",
    "- Medium: Find out which user has created the most amount of cases\n",
    "- Medium: Allow client to enter a list of names and then auto create mobile workers for all those names\n",
    "- Hard: Create a script that reads GPS coordinates and creates a case that defines that shape! (talk to me if you want to tackle)\n",
    "\n",
    "Anything else is fair game! Be creative and use the apis"
   ]
  }
 ],
 "metadata": {
  "celltoolbar": "Slideshow",
  "kernelspec": {
   "display_name": "Python 2",
   "language": "python",
   "name": "python2"
  },
  "language_info": {
   "codemirror_mode": {
    "name": "ipython",
    "version": 2
   },
   "file_extension": ".py",
   "mimetype": "text/x-python",
   "name": "python",
   "nbconvert_exporter": "python",
   "pygments_lexer": "ipython2",
   "version": "2.7.10"
  }
 },
 "nbformat": 4,
 "nbformat_minor": 0
}
